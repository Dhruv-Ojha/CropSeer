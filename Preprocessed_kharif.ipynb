{
 "cells": [
  {
   "cell_type": "code",
   "execution_count": 4,
   "metadata": {},
   "outputs": [],
   "source": [
    "import pandas as pd\n",
    "import numpy as np\n",
    "import seaborn as sns"
   ]
  },
  {
   "cell_type": "code",
   "execution_count": 6,
   "metadata": {},
   "outputs": [],
   "source": [
    "data = pd.read_excel('C:\\\\Users\\\\Dhruv\\\\Documents\\\\Kharif_Crop_Final.xlsx')"
   ]
  },
  {
   "cell_type": "code",
   "execution_count": 7,
   "metadata": {},
   "outputs": [
    {
     "data": {
      "text/html": [
       "<div>\n",
       "<style scoped>\n",
       "    .dataframe tbody tr th:only-of-type {\n",
       "        vertical-align: middle;\n",
       "    }\n",
       "\n",
       "    .dataframe tbody tr th {\n",
       "        vertical-align: top;\n",
       "    }\n",
       "\n",
       "    .dataframe thead th {\n",
       "        text-align: right;\n",
       "    }\n",
       "</style>\n",
       "<table border=\"1\" class=\"dataframe\">\n",
       "  <thead>\n",
       "    <tr style=\"text-align: right;\">\n",
       "      <th></th>\n",
       "      <th>Year</th>\n",
       "      <th>Dist Name</th>\n",
       "      <th>Crops</th>\n",
       "      <th>Area</th>\n",
       "      <th>Production</th>\n",
       "      <th>Irrigation</th>\n",
       "      <th>Precipitation</th>\n",
       "      <th>Temperature (MIN)</th>\n",
       "      <th>Temperature (MAX)</th>\n",
       "    </tr>\n",
       "  </thead>\n",
       "  <tbody>\n",
       "    <tr>\n",
       "      <th>0</th>\n",
       "      <td>1990</td>\n",
       "      <td>Bareilly</td>\n",
       "      <td>Rice</td>\n",
       "      <td>141.10</td>\n",
       "      <td>309.07</td>\n",
       "      <td>106.20</td>\n",
       "      <td>154.60</td>\n",
       "      <td>24.368</td>\n",
       "      <td>32.808</td>\n",
       "    </tr>\n",
       "    <tr>\n",
       "      <th>1</th>\n",
       "      <td>1991</td>\n",
       "      <td>Bareilly</td>\n",
       "      <td>Rice</td>\n",
       "      <td>119.94</td>\n",
       "      <td>217.84</td>\n",
       "      <td>112.46</td>\n",
       "      <td>97.98</td>\n",
       "      <td>24.278</td>\n",
       "      <td>33.588</td>\n",
       "    </tr>\n",
       "    <tr>\n",
       "      <th>2</th>\n",
       "      <td>1992</td>\n",
       "      <td>Bareilly</td>\n",
       "      <td>Rice</td>\n",
       "      <td>140.50</td>\n",
       "      <td>248.80</td>\n",
       "      <td>136.48</td>\n",
       "      <td>99.56</td>\n",
       "      <td>24.176</td>\n",
       "      <td>32.990</td>\n",
       "    </tr>\n",
       "    <tr>\n",
       "      <th>3</th>\n",
       "      <td>1993</td>\n",
       "      <td>Bareilly</td>\n",
       "      <td>Rice</td>\n",
       "      <td>146.19</td>\n",
       "      <td>282.93</td>\n",
       "      <td>142.46</td>\n",
       "      <td>151.16</td>\n",
       "      <td>24.846</td>\n",
       "      <td>33.302</td>\n",
       "    </tr>\n",
       "    <tr>\n",
       "      <th>4</th>\n",
       "      <td>1994</td>\n",
       "      <td>Bareilly</td>\n",
       "      <td>Rice</td>\n",
       "      <td>136.65</td>\n",
       "      <td>248.48</td>\n",
       "      <td>133.33</td>\n",
       "      <td>110.74</td>\n",
       "      <td>24.596</td>\n",
       "      <td>32.996</td>\n",
       "    </tr>\n",
       "  </tbody>\n",
       "</table>\n",
       "</div>"
      ],
      "text/plain": [
       "   Year Dist Name Crops    Area  Production  Irrigation  Precipitation  \\\n",
       "0  1990  Bareilly  Rice  141.10      309.07      106.20         154.60   \n",
       "1  1991  Bareilly  Rice  119.94      217.84      112.46          97.98   \n",
       "2  1992  Bareilly  Rice  140.50      248.80      136.48          99.56   \n",
       "3  1993  Bareilly  Rice  146.19      282.93      142.46         151.16   \n",
       "4  1994  Bareilly  Rice  136.65      248.48      133.33         110.74   \n",
       "\n",
       "   Temperature (MIN)  Temperature (MAX)  \n",
       "0             24.368             32.808  \n",
       "1             24.278             33.588  \n",
       "2             24.176             32.990  \n",
       "3             24.846             33.302  \n",
       "4             24.596             32.996  "
      ]
     },
     "execution_count": 7,
     "metadata": {},
     "output_type": "execute_result"
    }
   ],
   "source": [
    "data.head()"
   ]
  },
  {
   "cell_type": "code",
   "execution_count": 8,
   "metadata": {},
   "outputs": [],
   "source": [
    "data.to_csv(\"transformed_data_kharif.csv\", index=False)"
   ]
  },
  {
   "cell_type": "code",
   "execution_count": null,
   "metadata": {},
   "outputs": [],
   "source": []
  }
 ],
 "metadata": {
  "kernelspec": {
   "display_name": "base",
   "language": "python",
   "name": "python3"
  },
  "language_info": {
   "codemirror_mode": {
    "name": "ipython",
    "version": 3
   },
   "file_extension": ".py",
   "mimetype": "text/x-python",
   "name": "python",
   "nbconvert_exporter": "python",
   "pygments_lexer": "ipython3",
   "version": "3.9.7"
  }
 },
 "nbformat": 4,
 "nbformat_minor": 2
}
