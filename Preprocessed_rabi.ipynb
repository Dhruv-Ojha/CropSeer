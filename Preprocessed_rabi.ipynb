{
 "cells": [
  {
   "cell_type": "code",
   "execution_count": 7,
   "metadata": {},
   "outputs": [],
   "source": [
    "import pandas as pd\n",
    "import numpy as np\n",
    "import seaborn as sns"
   ]
  },
  {
   "cell_type": "code",
   "execution_count": 2,
   "metadata": {},
   "outputs": [],
   "source": [
    "data2 = pd.read_csv(\"preprocessed_data_rabi.csv\")"
   ]
  },
  {
   "cell_type": "code",
   "execution_count": 3,
   "metadata": {},
   "outputs": [
    {
     "data": {
      "text/html": [
       "<div>\n",
       "<style scoped>\n",
       "    .dataframe tbody tr th:only-of-type {\n",
       "        vertical-align: middle;\n",
       "    }\n",
       "\n",
       "    .dataframe tbody tr th {\n",
       "        vertical-align: top;\n",
       "    }\n",
       "\n",
       "    .dataframe thead th {\n",
       "        text-align: right;\n",
       "    }\n",
       "</style>\n",
       "<table border=\"1\" class=\"dataframe\">\n",
       "  <thead>\n",
       "    <tr style=\"text-align: right;\">\n",
       "      <th></th>\n",
       "      <th>Year</th>\n",
       "      <th>Dist Name</th>\n",
       "      <th>Crops</th>\n",
       "      <th>Area</th>\n",
       "      <th>Production</th>\n",
       "      <th>Irrigation</th>\n",
       "      <th>Precipitation</th>\n",
       "      <th>Temperature (MAX)</th>\n",
       "      <th>Temperature (MIN)</th>\n",
       "    </tr>\n",
       "  </thead>\n",
       "  <tbody>\n",
       "    <tr>\n",
       "      <th>0</th>\n",
       "      <td>1990</td>\n",
       "      <td>Bareilly</td>\n",
       "      <td>Wheat</td>\n",
       "      <td>162.53</td>\n",
       "      <td>2235.28</td>\n",
       "      <td>157.56</td>\n",
       "      <td>15.587143</td>\n",
       "      <td>27.545714</td>\n",
       "      <td>13.698571</td>\n",
       "    </tr>\n",
       "    <tr>\n",
       "      <th>1</th>\n",
       "      <td>1991</td>\n",
       "      <td>Bareilly</td>\n",
       "      <td>Wheat</td>\n",
       "      <td>162.06</td>\n",
       "      <td>2197.58</td>\n",
       "      <td>157.02</td>\n",
       "      <td>12.512857</td>\n",
       "      <td>27.231429</td>\n",
       "      <td>13.614286</td>\n",
       "    </tr>\n",
       "    <tr>\n",
       "      <th>2</th>\n",
       "      <td>1992</td>\n",
       "      <td>Bareilly</td>\n",
       "      <td>Wheat</td>\n",
       "      <td>181.64</td>\n",
       "      <td>2042.78</td>\n",
       "      <td>179.24</td>\n",
       "      <td>14.784286</td>\n",
       "      <td>27.197143</td>\n",
       "      <td>13.611429</td>\n",
       "    </tr>\n",
       "    <tr>\n",
       "      <th>3</th>\n",
       "      <td>1993</td>\n",
       "      <td>Bareilly</td>\n",
       "      <td>Wheat</td>\n",
       "      <td>183.34</td>\n",
       "      <td>2256.95</td>\n",
       "      <td>181.89</td>\n",
       "      <td>25.117143</td>\n",
       "      <td>27.307143</td>\n",
       "      <td>13.630000</td>\n",
       "    </tr>\n",
       "    <tr>\n",
       "      <th>4</th>\n",
       "      <td>1994</td>\n",
       "      <td>Bareilly</td>\n",
       "      <td>Wheat</td>\n",
       "      <td>168.95</td>\n",
       "      <td>2435.45</td>\n",
       "      <td>168.13</td>\n",
       "      <td>9.207143</td>\n",
       "      <td>28.238571</td>\n",
       "      <td>14.521429</td>\n",
       "    </tr>\n",
       "  </tbody>\n",
       "</table>\n",
       "</div>"
      ],
      "text/plain": [
       "   Year Dist Name  Crops    Area  Production  Irrigation  Precipitation  \\\n",
       "0  1990  Bareilly  Wheat  162.53     2235.28      157.56      15.587143   \n",
       "1  1991  Bareilly  Wheat  162.06     2197.58      157.02      12.512857   \n",
       "2  1992  Bareilly  Wheat  181.64     2042.78      179.24      14.784286   \n",
       "3  1993  Bareilly  Wheat  183.34     2256.95      181.89      25.117143   \n",
       "4  1994  Bareilly  Wheat  168.95     2435.45      168.13       9.207143   \n",
       "\n",
       "   Temperature (MAX)  Temperature (MIN)  \n",
       "0          27.545714          13.698571  \n",
       "1          27.231429          13.614286  \n",
       "2          27.197143          13.611429  \n",
       "3          27.307143          13.630000  \n",
       "4          28.238571          14.521429  "
      ]
     },
     "execution_count": 3,
     "metadata": {},
     "output_type": "execute_result"
    }
   ],
   "source": [
    "data2.head()"
   ]
  },
  {
   "cell_type": "code",
   "execution_count": 5,
   "metadata": {},
   "outputs": [
    {
     "name": "stderr",
     "output_type": "stream",
     "text": [
      "C:\\Users\\Dhruv\\AppData\\Local\\Temp/ipykernel_7540/4039535641.py:1: FutureWarning: Dropping of nuisance columns in DataFrame reductions (with 'numeric_only=None') is deprecated; in a future version this will raise TypeError.  Select only valid columns before calling the reduction.\n",
      "  data2.skew()\n"
     ]
    },
    {
     "data": {
      "text/plain": [
       "Year                 0.000000\n",
       "Area                 1.134638\n",
       "Production           0.211570\n",
       "Irrigation           1.313777\n",
       "Precipitation        1.419178\n",
       "Temperature (MAX)   -0.402593\n",
       "Temperature (MIN)   -0.077043\n",
       "dtype: float64"
      ]
     },
     "execution_count": 5,
     "metadata": {},
     "output_type": "execute_result"
    }
   ],
   "source": [
    "data2.skew()"
   ]
  },
  {
   "cell_type": "code",
   "execution_count": 8,
   "metadata": {},
   "outputs": [
    {
     "data": {
      "text/plain": [
       "<seaborn.axisgrid.FacetGrid at 0x274b9121d00>"
      ]
     },
     "execution_count": 8,
     "metadata": {},
     "output_type": "execute_result"
    },
    {
     "data": {
      "image/png": "[encoded data removed]",
      "text/plain": [
       "<Figure size 360x360 with 1 Axes>"
      ]
     },
     "metadata": {
      "needs_background": "light"
     },
     "output_type": "display_data"
    },
    {
     "data": {
      "image/png": "[encoded data removed]",
      "text/plain": [
       "<Figure size 360x360 with 1 Axes>"
      ]
     },
     "metadata": {
      "needs_background": "light"
     },
     "output_type": "display_data"
    },
    {
     "data": {
      "image/png": "[encoded data removed]",
      "text/plain": [
       "<Figure size 360x360 with 1 Axes>"
      ]
     },
     "metadata": {
      "needs_background": "light"
     },
     "output_type": "display_data"
    }
   ],
   "source": [
    "sns.displot(data2[\"Area\"], kde=True, color=\"green\")\n",
    "sns.displot(data2[\"Irrigation\"], kde=True, color='blue')\n",
    "sns.displot(data2[\"Precipitation\"], kde=True, color='red')"
   ]
  },
  {
   "cell_type": "code",
   "execution_count": 9,
   "metadata": {},
   "outputs": [],
   "source": [
    "data2[[\"Area\", \"Irrigation\", \"Precipitation\"]] = data2[[\"Area\", \"Irrigation\", \"Precipitation\"]].transform(lambda x: np.log(x + 1))"
   ]
  },
  {
   "cell_type": "code",
   "execution_count": 10,
   "metadata": {},
   "outputs": [
    {
     "name": "stderr",
     "output_type": "stream",
     "text": [
      "C:\\Users\\Dhruv\\AppData\\Local\\Temp/ipykernel_7540/4039535641.py:1: FutureWarning: Dropping of nuisance columns in DataFrame reductions (with 'numeric_only=None') is deprecated; in a future version this will raise TypeError.  Select only valid columns before calling the reduction.\n",
      "  data2.skew()\n"
     ]
    },
    {
     "data": {
      "text/plain": [
       "Year                 0.000000\n",
       "Area                 0.192289\n",
       "Production           0.211570\n",
       "Irrigation           0.726348\n",
       "Precipitation       -0.196695\n",
       "Temperature (MAX)   -0.402593\n",
       "Temperature (MIN)   -0.077043\n",
       "dtype: float64"
      ]
     },
     "execution_count": 10,
     "metadata": {},
     "output_type": "execute_result"
    }
   ],
   "source": [
    "data2.skew()"
   ]
  },
  {
   "cell_type": "code",
   "execution_count": 11,
   "metadata": {},
   "outputs": [
    {
     "data": {
      "text/plain": [
       "<seaborn.axisgrid.FacetGrid at 0x274b93717c0>"
      ]
     },
     "execution_count": 11,
     "metadata": {},
     "output_type": "execute_result"
    },
    {
     "data": {
      "image/png": "[encoded data removed]",
      "text/plain": [
       "<Figure size 360x360 with 1 Axes>"
      ]
     },
     "metadata": {
      "needs_background": "light"
     },
     "output_type": "display_data"
    },
    {
     "data": {
      "image/png": "[encoded data removed]",
      "text/plain": [
       "<Figure size 360x360 with 1 Axes>"
      ]
     },
     "metadata": {
      "needs_background": "light"
     },
     "output_type": "display_data"
    },
    {
     "data": {
      "image/png": "[encoded data removed]",
      "text/plain": [
       "<Figure size 360x360 with 1 Axes>"
      ]
     },
     "metadata": {
      "needs_background": "light"
     },
     "output_type": "display_data"
    }
   ],
   "source": [
    "sns.displot(data2[\"Area\"], kde=True, color='green')\n",
    "sns.displot(data2[\"Irrigation\"], kde=True, color='blue')\n",
    "sns.displot(data2[\"Precipitation\"], kde=True, color='red')"
   ]
  },
  {
   "cell_type": "code",
   "execution_count": 12,
   "metadata": {},
   "outputs": [
    {
     "data": {
      "text/html": [
       "<div>\n",
       "<style scoped>\n",
       "    .dataframe tbody tr th:only-of-type {\n",
       "        vertical-align: middle;\n",
       "    }\n",
       "\n",
       "    .dataframe tbody tr th {\n",
       "        vertical-align: top;\n",
       "    }\n",
       "\n",
       "    .dataframe thead th {\n",
       "        text-align: right;\n",
       "    }\n",
       "</style>\n",
       "<table border=\"1\" class=\"dataframe\">\n",
       "  <thead>\n",
       "    <tr style=\"text-align: right;\">\n",
       "      <th></th>\n",
       "      <th>Year</th>\n",
       "      <th>Dist Name</th>\n",
       "      <th>Crops</th>\n",
       "      <th>Area</th>\n",
       "      <th>Production</th>\n",
       "      <th>Irrigation</th>\n",
       "      <th>Precipitation</th>\n",
       "      <th>Temperature (MAX)</th>\n",
       "      <th>Temperature (MIN)</th>\n",
       "    </tr>\n",
       "  </thead>\n",
       "  <tbody>\n",
       "    <tr>\n",
       "      <th>0</th>\n",
       "      <td>1990</td>\n",
       "      <td>Bareilly</td>\n",
       "      <td>Wheat</td>\n",
       "      <td>5.096996</td>\n",
       "      <td>2235.28</td>\n",
       "      <td>5.066133</td>\n",
       "      <td>2.808628</td>\n",
       "      <td>27.545714</td>\n",
       "      <td>13.698571</td>\n",
       "    </tr>\n",
       "    <tr>\n",
       "      <th>1</th>\n",
       "      <td>1991</td>\n",
       "      <td>Bareilly</td>\n",
       "      <td>Wheat</td>\n",
       "      <td>5.094118</td>\n",
       "      <td>2197.58</td>\n",
       "      <td>5.062722</td>\n",
       "      <td>2.603642</td>\n",
       "      <td>27.231429</td>\n",
       "      <td>13.614286</td>\n",
       "    </tr>\n",
       "    <tr>\n",
       "      <th>2</th>\n",
       "      <td>1992</td>\n",
       "      <td>Bareilly</td>\n",
       "      <td>Wheat</td>\n",
       "      <td>5.207517</td>\n",
       "      <td>2042.78</td>\n",
       "      <td>5.194289</td>\n",
       "      <td>2.759015</td>\n",
       "      <td>27.197143</td>\n",
       "      <td>13.611429</td>\n",
       "    </tr>\n",
       "    <tr>\n",
       "      <th>3</th>\n",
       "      <td>1993</td>\n",
       "      <td>Bareilly</td>\n",
       "      <td>Wheat</td>\n",
       "      <td>5.216782</td>\n",
       "      <td>2256.95</td>\n",
       "      <td>5.208885</td>\n",
       "      <td>3.262592</td>\n",
       "      <td>27.307143</td>\n",
       "      <td>13.630000</td>\n",
       "    </tr>\n",
       "    <tr>\n",
       "      <th>4</th>\n",
       "      <td>1994</td>\n",
       "      <td>Bareilly</td>\n",
       "      <td>Wheat</td>\n",
       "      <td>5.135504</td>\n",
       "      <td>2435.45</td>\n",
       "      <td>5.130668</td>\n",
       "      <td>2.323088</td>\n",
       "      <td>28.238571</td>\n",
       "      <td>14.521429</td>\n",
       "    </tr>\n",
       "  </tbody>\n",
       "</table>\n",
       "</div>"
      ],
      "text/plain": [
       "   Year Dist Name  Crops      Area  Production  Irrigation  Precipitation  \\\n",
       "0  1990  Bareilly  Wheat  5.096996     2235.28    5.066133       2.808628   \n",
       "1  1991  Bareilly  Wheat  5.094118     2197.58    5.062722       2.603642   \n",
       "2  1992  Bareilly  Wheat  5.207517     2042.78    5.194289       2.759015   \n",
       "3  1993  Bareilly  Wheat  5.216782     2256.95    5.208885       3.262592   \n",
       "4  1994  Bareilly  Wheat  5.135504     2435.45    5.130668       2.323088   \n",
       "\n",
       "   Temperature (MAX)  Temperature (MIN)  \n",
       "0          27.545714          13.698571  \n",
       "1          27.231429          13.614286  \n",
       "2          27.197143          13.611429  \n",
       "3          27.307143          13.630000  \n",
       "4          28.238571          14.521429  "
      ]
     },
     "execution_count": 12,
     "metadata": {},
     "output_type": "execute_result"
    }
   ],
   "source": [
    "data2.head()"
   ]
  },
  {
   "cell_type": "code",
   "execution_count": 13,
   "metadata": {},
   "outputs": [],
   "source": [
    "data2.to_csv(\"transformed_data_rabi1.csv\", index=False)"
   ]
  },
  {
   "cell_type": "code",
   "execution_count": null,
   "metadata": {},
   "outputs": [],
   "source": []
  }
 ],
 "metadata": {
  "kernelspec": {
   "display_name": "Python 3",
   "language": "python",
   "name": "python3"
  },
  "language_info": {
   "codemirror_mode": {
    "name": "ipython",
    "version": 3
   },
   "file_extension": ".py",
   "mimetype": "text/x-python",
   "name": "python",
   "nbconvert_exporter": "python",
   "pygments_lexer": "ipython3",
   "version": "3.9.7"
  }
 },
 "nbformat": 4,
 "nbformat_minor": 2
}
